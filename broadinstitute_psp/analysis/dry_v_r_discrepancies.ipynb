{
 "cells": [
  {
   "cell_type": "markdown",
   "metadata": {},
   "source": [
    "# Why does the output of dry for P100 plates differ from the output of the R code?\n",
    "\n",
    "I've already shown that the output of dry for GCP plates is the same as the output of the R code (error on the order of 10^-16). But for P100 plates, the error seems to be on the order of 10^-2 sometimes. It can be bigger than that sometimes, though the average is about 10^-7. This is an attempt to dig into these discrepancies.\n",
    "\n",
    "N.B. A particularly concerning thing is that the difference in values leads to a sample getting filtered out by dry once where the R code does not filter it out: P100, PRM, Plate 29, 6H."
   ]
  },
  {
   "cell_type": "code",
   "execution_count": 112,
   "metadata": {
    "collapsed": true
   },
   "outputs": [],
   "source": [
    "# Location of dry results\n",
    "gct_loc_dry = \"/cmap/data/proteomics/dry/\"\n",
    "\n",
    "# Location of dry with no optimization results\n",
    "gct_loc_dry_no_optim = \"/cmap/data/proteomics/dry/dry_with_old_optim/\"\n",
    "\n",
    "# Location of R results\n",
    "gct_loc_r_code = \"/cmap/data/proteomics/produced_by_jjaffe_code/dry/wget_processed/\"\n",
    "\n",
    "# Location of unprocessed gcts\n",
    "gct_loc_unprocessed = \"/cmap/data/proteomics/harvest/wget_unprocessed/\""
   ]
  },
  {
   "cell_type": "code",
   "execution_count": 113,
   "metadata": {
    "collapsed": false
   },
   "outputs": [
    {
     "data": {
      "text/html": [
       "<div>\n",
       "<table border=\"1\" class=\"dataframe\">\n",
       "  <thead>\n",
       "    <tr style=\"text-align: right;\">\n",
       "      <th>cid</th>\n",
       "      <th>PA5-11373-001A01</th>\n",
       "      <th>PA5-11373-002A02</th>\n",
       "      <th>PA5-11373-003A03</th>\n",
       "      <th>PA5-11373-004A04</th>\n",
       "      <th>PA5-11373-005A05</th>\n",
       "    </tr>\n",
       "    <tr>\n",
       "      <th>rid</th>\n",
       "      <th></th>\n",
       "      <th></th>\n",
       "      <th></th>\n",
       "      <th></th>\n",
       "      <th></th>\n",
       "    </tr>\n",
       "  </thead>\n",
       "  <tbody>\n",
       "    <tr>\n",
       "      <th>10011_DYRK_Y321_IYQY[+80]IQSR</th>\n",
       "      <td>-0.138658</td>\n",
       "      <td>0.124078</td>\n",
       "      <td>-0.191836</td>\n",
       "      <td>-0.160447</td>\n",
       "      <td>0.047043</td>\n",
       "    </tr>\n",
       "    <tr>\n",
       "      <th>1024_ISPK1_S369_TPKDS[+80]PGIPPSANAHQLFR</th>\n",
       "      <td>-0.213349</td>\n",
       "      <td>-0.545110</td>\n",
       "      <td>-0.511951</td>\n",
       "      <td>-0.197953</td>\n",
       "      <td>-0.210165</td>\n",
       "    </tr>\n",
       "    <tr>\n",
       "      <th>1078_ARM2_S87_RNS[+80]SEASSGDFLDLK</th>\n",
       "      <td>0.208837</td>\n",
       "      <td>1.080108</td>\n",
       "      <td>0.927835</td>\n",
       "      <td>0.065981</td>\n",
       "      <td>0.145001</td>\n",
       "    </tr>\n",
       "    <tr>\n",
       "      <th>1130_HSPC216_S321_LPLVPES[+80]PRR</th>\n",
       "      <td>0.566610</td>\n",
       "      <td>-0.300573</td>\n",
       "      <td>-0.228047</td>\n",
       "      <td>-0.249955</td>\n",
       "      <td>-0.117273</td>\n",
       "    </tr>\n",
       "    <tr>\n",
       "      <th>1142_CTG26_S956_ANAS[+80]PQKPLDLK</th>\n",
       "      <td>0.043985</td>\n",
       "      <td>0.317010</td>\n",
       "      <td>0.207650</td>\n",
       "      <td>0.030898</td>\n",
       "      <td>0.168164</td>\n",
       "    </tr>\n",
       "    <tr>\n",
       "      <th>1458_OCIA_S108_LENS[+80]PLGEALR</th>\n",
       "      <td>0.892273</td>\n",
       "      <td>-0.364768</td>\n",
       "      <td>0.463274</td>\n",
       "      <td>-0.159134</td>\n",
       "      <td>-0.927878</td>\n",
       "    </tr>\n",
       "    <tr>\n",
       "      <th>1503_PDK1_S241_ANS[+80]FVGTAQYVSPELLTEK</th>\n",
       "      <td>-0.255896</td>\n",
       "      <td>0.297277</td>\n",
       "      <td>0.091390</td>\n",
       "      <td>-0.084958</td>\n",
       "      <td>0.211983</td>\n",
       "    </tr>\n",
       "    <tr>\n",
       "      <th>151_ABI1_S184_TNPPTQKPPS[+80]PPMSGR</th>\n",
       "      <td>-0.385769</td>\n",
       "      <td>-0.200814</td>\n",
       "      <td>-0.196915</td>\n",
       "      <td>-0.318347</td>\n",
       "      <td>-0.111218</td>\n",
       "    </tr>\n",
       "    <tr>\n",
       "      <th>1797_WDR20_S465_SNS[+80]LPHSAVSNAGSK</th>\n",
       "      <td>-0.308875</td>\n",
       "      <td>0.703989</td>\n",
       "      <td>0.220569</td>\n",
       "      <td>-0.068506</td>\n",
       "      <td>0.280991</td>\n",
       "    </tr>\n",
       "    <tr>\n",
       "      <th>1811_MAP4_S2218_VGS[+80]LDNVGHLPAGGAVK</th>\n",
       "      <td>-0.203076</td>\n",
       "      <td>0.306938</td>\n",
       "      <td>0.086187</td>\n",
       "      <td>0.091675</td>\n",
       "      <td>0.190611</td>\n",
       "    </tr>\n",
       "  </tbody>\n",
       "</table>\n",
       "</div>"
      ],
      "text/plain": [
       "cid                                       PA5-11373-001A01  PA5-11373-002A02  \\\n",
       "rid                                                                            \n",
       "10011_DYRK_Y321_IYQY[+80]IQSR                    -0.138658          0.124078   \n",
       "1024_ISPK1_S369_TPKDS[+80]PGIPPSANAHQLFR         -0.213349         -0.545110   \n",
       "1078_ARM2_S87_RNS[+80]SEASSGDFLDLK                0.208837          1.080108   \n",
       "1130_HSPC216_S321_LPLVPES[+80]PRR                 0.566610         -0.300573   \n",
       "1142_CTG26_S956_ANAS[+80]PQKPLDLK                 0.043985          0.317010   \n",
       "1458_OCIA_S108_LENS[+80]PLGEALR                   0.892273         -0.364768   \n",
       "1503_PDK1_S241_ANS[+80]FVGTAQYVSPELLTEK          -0.255896          0.297277   \n",
       "151_ABI1_S184_TNPPTQKPPS[+80]PPMSGR              -0.385769         -0.200814   \n",
       "1797_WDR20_S465_SNS[+80]LPHSAVSNAGSK             -0.308875          0.703989   \n",
       "1811_MAP4_S2218_VGS[+80]LDNVGHLPAGGAVK           -0.203076          0.306938   \n",
       "\n",
       "cid                                       PA5-11373-003A03  PA5-11373-004A04  \\\n",
       "rid                                                                            \n",
       "10011_DYRK_Y321_IYQY[+80]IQSR                    -0.191836         -0.160447   \n",
       "1024_ISPK1_S369_TPKDS[+80]PGIPPSANAHQLFR         -0.511951         -0.197953   \n",
       "1078_ARM2_S87_RNS[+80]SEASSGDFLDLK                0.927835          0.065981   \n",
       "1130_HSPC216_S321_LPLVPES[+80]PRR                -0.228047         -0.249955   \n",
       "1142_CTG26_S956_ANAS[+80]PQKPLDLK                 0.207650          0.030898   \n",
       "1458_OCIA_S108_LENS[+80]PLGEALR                   0.463274         -0.159134   \n",
       "1503_PDK1_S241_ANS[+80]FVGTAQYVSPELLTEK           0.091390         -0.084958   \n",
       "151_ABI1_S184_TNPPTQKPPS[+80]PPMSGR              -0.196915         -0.318347   \n",
       "1797_WDR20_S465_SNS[+80]LPHSAVSNAGSK              0.220569         -0.068506   \n",
       "1811_MAP4_S2218_VGS[+80]LDNVGHLPAGGAVK            0.086187          0.091675   \n",
       "\n",
       "cid                                       PA5-11373-005A05  \n",
       "rid                                                         \n",
       "10011_DYRK_Y321_IYQY[+80]IQSR                     0.047043  \n",
       "1024_ISPK1_S369_TPKDS[+80]PGIPPSANAHQLFR         -0.210165  \n",
       "1078_ARM2_S87_RNS[+80]SEASSGDFLDLK                0.145001  \n",
       "1130_HSPC216_S321_LPLVPES[+80]PRR                -0.117273  \n",
       "1142_CTG26_S956_ANAS[+80]PQKPLDLK                 0.168164  \n",
       "1458_OCIA_S108_LENS[+80]PLGEALR                  -0.927878  \n",
       "1503_PDK1_S241_ANS[+80]FVGTAQYVSPELLTEK           0.211983  \n",
       "151_ABI1_S184_TNPPTQKPPS[+80]PPMSGR              -0.111218  \n",
       "1797_WDR20_S465_SNS[+80]LPHSAVSNAGSK              0.280991  \n",
       "1811_MAP4_S2218_VGS[+80]LDNVGHLPAGGAVK            0.190611  "
      ]
     },
     "execution_count": 113,
     "metadata": {},
     "output_type": "execute_result"
    }
   ],
   "source": [
    "import numpy as np\n",
    "import parse_gctoo as pg\n",
    "import plotly.plotly as py\n",
    "import plotly.graph_objs as go\n",
    "from plotly import tools\n",
    "\n",
    "# First, let's load in files and prove that the discrepancy exists; we'll use Plate 22 as an example\n",
    "unpro_plate = pg.parse(gct_loc_unprocessed + \"LINCS_P100_DIA_Plate22_annotated_minimized_2016-01-27_17-18-39.gct\")\n",
    "dry_plate = pg.parse(gct_loc_dry + \"LINCS_P100_DIA_Plate22_annotated_minimized_2016-01-27_17-18-39.gct.dry.processed.gct\")\n",
    "r_plate = pg.parse(gct_loc_r_code + \"LINCS_P100_DIA_Plate22_annotated_minimized_2016-01-27_17-18-39.processed.gct\")\n",
    "\n",
    "# dry\n",
    "dry_plate.data_df.iloc[range(10), range(5)]"
   ]
  },
  {
   "cell_type": "code",
   "execution_count": 114,
   "metadata": {
    "collapsed": false
   },
   "outputs": [
    {
     "data": {
      "text/html": [
       "<div>\n",
       "<table border=\"1\" class=\"dataframe\">\n",
       "  <thead>\n",
       "    <tr style=\"text-align: right;\">\n",
       "      <th>cid</th>\n",
       "      <th>PA5-11373-001A01</th>\n",
       "      <th>PA5-11373-002A02</th>\n",
       "      <th>PA5-11373-003A03</th>\n",
       "      <th>PA5-11373-004A04</th>\n",
       "      <th>PA5-11373-005A05</th>\n",
       "    </tr>\n",
       "    <tr>\n",
       "      <th>rid</th>\n",
       "      <th></th>\n",
       "      <th></th>\n",
       "      <th></th>\n",
       "      <th></th>\n",
       "      <th></th>\n",
       "    </tr>\n",
       "  </thead>\n",
       "  <tbody>\n",
       "    <tr>\n",
       "      <th>10011_DYRK_Y321_IYQY[+80]IQSR</th>\n",
       "      <td>-0.138658</td>\n",
       "      <td>0.124078</td>\n",
       "      <td>-0.191836</td>\n",
       "      <td>-0.160447</td>\n",
       "      <td>0.047043</td>\n",
       "    </tr>\n",
       "    <tr>\n",
       "      <th>1024_ISPK1_S369_TPKDS[+80]PGIPPSANAHQLFR</th>\n",
       "      <td>-0.213349</td>\n",
       "      <td>-0.545110</td>\n",
       "      <td>-0.511951</td>\n",
       "      <td>-0.197953</td>\n",
       "      <td>-0.210165</td>\n",
       "    </tr>\n",
       "    <tr>\n",
       "      <th>1078_ARM2_S87_RNS[+80]SEASSGDFLDLK</th>\n",
       "      <td>0.208837</td>\n",
       "      <td>1.080108</td>\n",
       "      <td>0.927835</td>\n",
       "      <td>0.065981</td>\n",
       "      <td>0.145001</td>\n",
       "    </tr>\n",
       "    <tr>\n",
       "      <th>1130_HSPC216_S321_LPLVPES[+80]PRR</th>\n",
       "      <td>0.551021</td>\n",
       "      <td>-0.316162</td>\n",
       "      <td>-0.243636</td>\n",
       "      <td>-0.265544</td>\n",
       "      <td>-0.132862</td>\n",
       "    </tr>\n",
       "    <tr>\n",
       "      <th>1142_CTG26_S956_ANAS[+80]PQKPLDLK</th>\n",
       "      <td>0.030718</td>\n",
       "      <td>0.303743</td>\n",
       "      <td>0.194382</td>\n",
       "      <td>0.017631</td>\n",
       "      <td>0.154897</td>\n",
       "    </tr>\n",
       "    <tr>\n",
       "      <th>1458_OCIA_S108_LENS[+80]PLGEALR</th>\n",
       "      <td>0.892273</td>\n",
       "      <td>-0.364768</td>\n",
       "      <td>0.463274</td>\n",
       "      <td>-0.159134</td>\n",
       "      <td>-0.927878</td>\n",
       "    </tr>\n",
       "    <tr>\n",
       "      <th>1503_PDK1_S241_ANS[+80]FVGTAQYVSPELLTEK</th>\n",
       "      <td>-0.267365</td>\n",
       "      <td>0.285807</td>\n",
       "      <td>0.079921</td>\n",
       "      <td>-0.096427</td>\n",
       "      <td>0.200513</td>\n",
       "    </tr>\n",
       "    <tr>\n",
       "      <th>151_ABI1_S184_TNPPTQKPPS[+80]PPMSGR</th>\n",
       "      <td>-0.385769</td>\n",
       "      <td>-0.200814</td>\n",
       "      <td>-0.196915</td>\n",
       "      <td>-0.318347</td>\n",
       "      <td>-0.111218</td>\n",
       "    </tr>\n",
       "    <tr>\n",
       "      <th>1797_WDR20_S465_SNS[+80]LPHSAVSNAGSK</th>\n",
       "      <td>-0.308875</td>\n",
       "      <td>0.703989</td>\n",
       "      <td>0.220569</td>\n",
       "      <td>-0.068506</td>\n",
       "      <td>0.280991</td>\n",
       "    </tr>\n",
       "    <tr>\n",
       "      <th>1811_MAP4_S2218_VGS[+80]LDNVGHLPAGGAVK</th>\n",
       "      <td>-0.203076</td>\n",
       "      <td>0.306938</td>\n",
       "      <td>0.086187</td>\n",
       "      <td>0.091675</td>\n",
       "      <td>0.190611</td>\n",
       "    </tr>\n",
       "  </tbody>\n",
       "</table>\n",
       "</div>"
      ],
      "text/plain": [
       "cid                                       PA5-11373-001A01  PA5-11373-002A02  \\\n",
       "rid                                                                            \n",
       "10011_DYRK_Y321_IYQY[+80]IQSR                    -0.138658          0.124078   \n",
       "1024_ISPK1_S369_TPKDS[+80]PGIPPSANAHQLFR         -0.213349         -0.545110   \n",
       "1078_ARM2_S87_RNS[+80]SEASSGDFLDLK                0.208837          1.080108   \n",
       "1130_HSPC216_S321_LPLVPES[+80]PRR                 0.551021         -0.316162   \n",
       "1142_CTG26_S956_ANAS[+80]PQKPLDLK                 0.030718          0.303743   \n",
       "1458_OCIA_S108_LENS[+80]PLGEALR                   0.892273         -0.364768   \n",
       "1503_PDK1_S241_ANS[+80]FVGTAQYVSPELLTEK          -0.267365          0.285807   \n",
       "151_ABI1_S184_TNPPTQKPPS[+80]PPMSGR              -0.385769         -0.200814   \n",
       "1797_WDR20_S465_SNS[+80]LPHSAVSNAGSK             -0.308875          0.703989   \n",
       "1811_MAP4_S2218_VGS[+80]LDNVGHLPAGGAVK           -0.203076          0.306938   \n",
       "\n",
       "cid                                       PA5-11373-003A03  PA5-11373-004A04  \\\n",
       "rid                                                                            \n",
       "10011_DYRK_Y321_IYQY[+80]IQSR                    -0.191836         -0.160447   \n",
       "1024_ISPK1_S369_TPKDS[+80]PGIPPSANAHQLFR         -0.511951         -0.197953   \n",
       "1078_ARM2_S87_RNS[+80]SEASSGDFLDLK                0.927835          0.065981   \n",
       "1130_HSPC216_S321_LPLVPES[+80]PRR                -0.243636         -0.265544   \n",
       "1142_CTG26_S956_ANAS[+80]PQKPLDLK                 0.194382          0.017631   \n",
       "1458_OCIA_S108_LENS[+80]PLGEALR                   0.463274         -0.159134   \n",
       "1503_PDK1_S241_ANS[+80]FVGTAQYVSPELLTEK           0.079921         -0.096427   \n",
       "151_ABI1_S184_TNPPTQKPPS[+80]PPMSGR              -0.196915         -0.318347   \n",
       "1797_WDR20_S465_SNS[+80]LPHSAVSNAGSK              0.220569         -0.068506   \n",
       "1811_MAP4_S2218_VGS[+80]LDNVGHLPAGGAVK            0.086187          0.091675   \n",
       "\n",
       "cid                                       PA5-11373-005A05  \n",
       "rid                                                         \n",
       "10011_DYRK_Y321_IYQY[+80]IQSR                     0.047043  \n",
       "1024_ISPK1_S369_TPKDS[+80]PGIPPSANAHQLFR         -0.210165  \n",
       "1078_ARM2_S87_RNS[+80]SEASSGDFLDLK                0.145001  \n",
       "1130_HSPC216_S321_LPLVPES[+80]PRR                -0.132862  \n",
       "1142_CTG26_S956_ANAS[+80]PQKPLDLK                 0.154897  \n",
       "1458_OCIA_S108_LENS[+80]PLGEALR                  -0.927878  \n",
       "1503_PDK1_S241_ANS[+80]FVGTAQYVSPELLTEK           0.200513  \n",
       "151_ABI1_S184_TNPPTQKPPS[+80]PPMSGR              -0.111218  \n",
       "1797_WDR20_S465_SNS[+80]LPHSAVSNAGSK              0.280991  \n",
       "1811_MAP4_S2218_VGS[+80]LDNVGHLPAGGAVK            0.190611  "
      ]
     },
     "execution_count": 114,
     "metadata": {},
     "output_type": "execute_result"
    }
   ],
   "source": [
    "# R code\n",
    "r_plate.data_df.iloc[range(10), range(5)]"
   ]
  },
  {
   "cell_type": "code",
   "execution_count": 115,
   "metadata": {
    "collapsed": false
   },
   "outputs": [
    {
     "data": {
      "text/html": [
       "<div>\n",
       "<table border=\"1\" class=\"dataframe\">\n",
       "  <thead>\n",
       "    <tr style=\"text-align: right;\">\n",
       "      <th>cid</th>\n",
       "      <th>PA5-11373-001A01</th>\n",
       "      <th>PA5-11373-002A02</th>\n",
       "      <th>PA5-11373-003A03</th>\n",
       "      <th>PA5-11373-004A04</th>\n",
       "      <th>PA5-11373-005A05</th>\n",
       "    </tr>\n",
       "    <tr>\n",
       "      <th>rid</th>\n",
       "      <th></th>\n",
       "      <th></th>\n",
       "      <th></th>\n",
       "      <th></th>\n",
       "      <th></th>\n",
       "    </tr>\n",
       "  </thead>\n",
       "  <tbody>\n",
       "    <tr>\n",
       "      <th>10011_DYRK_Y321_IYQY[+80]IQSR</th>\n",
       "      <td>-1.637579e-15</td>\n",
       "      <td>-3.469447e-16</td>\n",
       "      <td>-1.665335e-15</td>\n",
       "      <td>-2.303713e-15</td>\n",
       "      <td>-1.568190e-15</td>\n",
       "    </tr>\n",
       "    <tr>\n",
       "      <th>1024_ISPK1_S369_TPKDS[+80]PGIPPSANAHQLFR</th>\n",
       "      <td>3.275158e-15</td>\n",
       "      <td>1.776357e-15</td>\n",
       "      <td>4.440892e-16</td>\n",
       "      <td>5.662137e-15</td>\n",
       "      <td>9.436896e-16</td>\n",
       "    </tr>\n",
       "    <tr>\n",
       "      <th>1078_ARM2_S87_RNS[+80]SEASSGDFLDLK</th>\n",
       "      <td>-2.137179e-15</td>\n",
       "      <td>4.440892e-16</td>\n",
       "      <td>-1.998401e-15</td>\n",
       "      <td>-1.804112e-15</td>\n",
       "      <td>3.469447e-15</td>\n",
       "    </tr>\n",
       "    <tr>\n",
       "      <th>1130_HSPC216_S321_LPLVPES[+80]PRR</th>\n",
       "      <td>1.558898e-02</td>\n",
       "      <td>1.558898e-02</td>\n",
       "      <td>1.558898e-02</td>\n",
       "      <td>1.558898e-02</td>\n",
       "      <td>1.558898e-02</td>\n",
       "    </tr>\n",
       "    <tr>\n",
       "      <th>1142_CTG26_S956_ANAS[+80]PQKPLDLK</th>\n",
       "      <td>1.326758e-02</td>\n",
       "      <td>1.326758e-02</td>\n",
       "      <td>1.326758e-02</td>\n",
       "      <td>1.326758e-02</td>\n",
       "      <td>1.326758e-02</td>\n",
       "    </tr>\n",
       "    <tr>\n",
       "      <th>1458_OCIA_S108_LENS[+80]PLGEALR</th>\n",
       "      <td>-3.330669e-16</td>\n",
       "      <td>1.498801e-15</td>\n",
       "      <td>-4.718448e-15</td>\n",
       "      <td>-4.496403e-15</td>\n",
       "      <td>-2.109424e-15</td>\n",
       "    </tr>\n",
       "    <tr>\n",
       "      <th>1503_PDK1_S241_ANS[+80]FVGTAQYVSPELLTEK</th>\n",
       "      <td>1.146957e-02</td>\n",
       "      <td>1.146957e-02</td>\n",
       "      <td>1.146957e-02</td>\n",
       "      <td>1.146957e-02</td>\n",
       "      <td>1.146957e-02</td>\n",
       "    </tr>\n",
       "    <tr>\n",
       "      <th>151_ABI1_S184_TNPPTQKPPS[+80]PPMSGR</th>\n",
       "      <td>-1.665335e-16</td>\n",
       "      <td>-7.216450e-16</td>\n",
       "      <td>-1.165734e-15</td>\n",
       "      <td>-1.776357e-15</td>\n",
       "      <td>-1.554312e-15</td>\n",
       "    </tr>\n",
       "    <tr>\n",
       "      <th>1797_WDR20_S465_SNS[+80]LPHSAVSNAGSK</th>\n",
       "      <td>4.440892e-16</td>\n",
       "      <td>-1.110223e-15</td>\n",
       "      <td>6.661338e-16</td>\n",
       "      <td>-4.926615e-15</td>\n",
       "      <td>6.661338e-16</td>\n",
       "    </tr>\n",
       "    <tr>\n",
       "      <th>1811_MAP4_S2218_VGS[+80]LDNVGHLPAGGAVK</th>\n",
       "      <td>3.358425e-15</td>\n",
       "      <td>-3.275158e-15</td>\n",
       "      <td>-2.178813e-15</td>\n",
       "      <td>4.232725e-15</td>\n",
       "      <td>-2.831069e-15</td>\n",
       "    </tr>\n",
       "  </tbody>\n",
       "</table>\n",
       "</div>"
      ],
      "text/plain": [
       "cid                                       PA5-11373-001A01  PA5-11373-002A02  \\\n",
       "rid                                                                            \n",
       "10011_DYRK_Y321_IYQY[+80]IQSR                -1.637579e-15     -3.469447e-16   \n",
       "1024_ISPK1_S369_TPKDS[+80]PGIPPSANAHQLFR      3.275158e-15      1.776357e-15   \n",
       "1078_ARM2_S87_RNS[+80]SEASSGDFLDLK           -2.137179e-15      4.440892e-16   \n",
       "1130_HSPC216_S321_LPLVPES[+80]PRR             1.558898e-02      1.558898e-02   \n",
       "1142_CTG26_S956_ANAS[+80]PQKPLDLK             1.326758e-02      1.326758e-02   \n",
       "1458_OCIA_S108_LENS[+80]PLGEALR              -3.330669e-16      1.498801e-15   \n",
       "1503_PDK1_S241_ANS[+80]FVGTAQYVSPELLTEK       1.146957e-02      1.146957e-02   \n",
       "151_ABI1_S184_TNPPTQKPPS[+80]PPMSGR          -1.665335e-16     -7.216450e-16   \n",
       "1797_WDR20_S465_SNS[+80]LPHSAVSNAGSK          4.440892e-16     -1.110223e-15   \n",
       "1811_MAP4_S2218_VGS[+80]LDNVGHLPAGGAVK        3.358425e-15     -3.275158e-15   \n",
       "\n",
       "cid                                       PA5-11373-003A03  PA5-11373-004A04  \\\n",
       "rid                                                                            \n",
       "10011_DYRK_Y321_IYQY[+80]IQSR                -1.665335e-15     -2.303713e-15   \n",
       "1024_ISPK1_S369_TPKDS[+80]PGIPPSANAHQLFR      4.440892e-16      5.662137e-15   \n",
       "1078_ARM2_S87_RNS[+80]SEASSGDFLDLK           -1.998401e-15     -1.804112e-15   \n",
       "1130_HSPC216_S321_LPLVPES[+80]PRR             1.558898e-02      1.558898e-02   \n",
       "1142_CTG26_S956_ANAS[+80]PQKPLDLK             1.326758e-02      1.326758e-02   \n",
       "1458_OCIA_S108_LENS[+80]PLGEALR              -4.718448e-15     -4.496403e-15   \n",
       "1503_PDK1_S241_ANS[+80]FVGTAQYVSPELLTEK       1.146957e-02      1.146957e-02   \n",
       "151_ABI1_S184_TNPPTQKPPS[+80]PPMSGR          -1.165734e-15     -1.776357e-15   \n",
       "1797_WDR20_S465_SNS[+80]LPHSAVSNAGSK          6.661338e-16     -4.926615e-15   \n",
       "1811_MAP4_S2218_VGS[+80]LDNVGHLPAGGAVK       -2.178813e-15      4.232725e-15   \n",
       "\n",
       "cid                                       PA5-11373-005A05  \n",
       "rid                                                         \n",
       "10011_DYRK_Y321_IYQY[+80]IQSR                -1.568190e-15  \n",
       "1024_ISPK1_S369_TPKDS[+80]PGIPPSANAHQLFR      9.436896e-16  \n",
       "1078_ARM2_S87_RNS[+80]SEASSGDFLDLK            3.469447e-15  \n",
       "1130_HSPC216_S321_LPLVPES[+80]PRR             1.558898e-02  \n",
       "1142_CTG26_S956_ANAS[+80]PQKPLDLK             1.326758e-02  \n",
       "1458_OCIA_S108_LENS[+80]PLGEALR              -2.109424e-15  \n",
       "1503_PDK1_S241_ANS[+80]FVGTAQYVSPELLTEK       1.146957e-02  \n",
       "151_ABI1_S184_TNPPTQKPPS[+80]PPMSGR          -1.554312e-15  \n",
       "1797_WDR20_S465_SNS[+80]LPHSAVSNAGSK          6.661338e-16  \n",
       "1811_MAP4_S2218_VGS[+80]LDNVGHLPAGGAVK       -2.831069e-15  "
      ]
     },
     "execution_count": 115,
     "metadata": {},
     "output_type": "execute_result"
    }
   ],
   "source": [
    "dry_plate.data_df.iloc[range(10), range(5)] - r_plate.data_df.iloc[range(10), range(5)]"
   ]
  },
  {
   "cell_type": "code",
   "execution_count": 116,
   "metadata": {
    "collapsed": false
   },
   "outputs": [
    {
     "data": {
      "text/plain": [
       "rid\n",
       "10011_DYRK_Y321_IYQY[+80]IQSR              -1.504352e-15\n",
       "1024_ISPK1_S369_TPKDS[+80]PGIPPSANAHQLFR    2.420286e-15\n",
       "1078_ARM2_S87_RNS[+80]SEASSGDFLDLK         -4.052314e-16\n",
       "1130_HSPC216_S321_LPLVPES[+80]PRR           1.558898e-02\n",
       "1142_CTG26_S956_ANAS[+80]PQKPLDLK           1.326758e-02\n",
       "1458_OCIA_S108_LENS[+80]PLGEALR            -2.031708e-15\n",
       "1503_PDK1_S241_ANS[+80]FVGTAQYVSPELLTEK     1.146957e-02\n",
       "151_ABI1_S184_TNPPTQKPPS[+80]PPMSGR        -1.076916e-15\n",
       "1797_WDR20_S465_SNS[+80]LPHSAVSNAGSK       -8.520962e-16\n",
       "1811_MAP4_S2218_VGS[+80]LDNVGHLPAGGAVK     -1.387779e-16\n",
       "dtype: float64"
      ]
     },
     "execution_count": 116,
     "metadata": {},
     "output_type": "execute_result"
    }
   ],
   "source": [
    "np.mean(dry_plate.data_df.iloc[range(10), range(5)] - r_plate.data_df.iloc[range(10), range(5)], axis=1)"
   ]
  },
  {
   "cell_type": "markdown",
   "metadata": {},
   "source": [
    "Across the whole probes, it looks like there are big differences for 3 out of the 10 probes: 1130_HSPC216_S321_LPLVPES[+80]PRR, 1142_CTG26_S956_ANAS[+80]PQKPLDLK, 1503_PDK1_S241_ANS[+80]FVGTAQYVSPELLTEK.\n",
    "\n",
    "So, let's see how these probes differ from the other probes. Let's start with the unprocessed data."
   ]
  },
  {
   "cell_type": "code",
   "execution_count": 117,
   "metadata": {
    "collapsed": true
   },
   "outputs": [],
   "source": [
    "# Define good and bad probes\n",
    "bad_probes = [\"1130_HSPC216_S321_LPLVPES[+80]PRR\", \"1142_CTG26_S956_ANAS[+80]PQKPLDLK\", \"1503_PDK1_S241_ANS[+80]FVGTAQYVSPELLTEK\"]\n",
    "good_probes = ['10011_DYRK_Y321_IYQY[+80]IQSR', '1024_ISPK1_S369_TPKDS[+80]PGIPPSANAHQLFR', '1078_ARM2_S87_RNS[+80]SEASSGDFLDLK', '12_KIAA0701_S935_SMS[+80]VDLSHIPLKDPLLFK', '1458_OCIA_S108_LENS[+80]PLGEALR', '151_ABI1_S184_TNPPTQKPPS[+80]PPMSGR', '1797_WDR20_S465_SNS[+80]LPHSAVSNAGSK']"
   ]
  },
  {
   "cell_type": "code",
   "execution_count": 118,
   "metadata": {
    "collapsed": false
   },
   "outputs": [
    {
     "data": {
      "text/html": [
       "<iframe id=\"igraph\" scrolling=\"no\" style=\"border:none;\" seamless=\"seamless\" src=\"https://plot.ly/~levlitichev/42.embed\" height=\"525px\" width=\"100%\"></iframe>"
      ],
      "text/plain": [
       "<plotly.tools.PlotlyDisplay object>"
      ]
     },
     "execution_count": 118,
     "metadata": {},
     "output_type": "execute_result"
    }
   ],
   "source": [
    "# Unprocessed\n",
    "traces = []\n",
    "for probe in bad_probes:\n",
    "    this_data = unpro_plate.data_df.ix[probe, :].values.flatten()\n",
    "    trace = go.Scatter(\n",
    "        x = unpro_plate.data_df.columns.values,\n",
    "        y = this_data,\n",
    "        mode = 'lines',\n",
    "        name = probe,\n",
    "        line = dict(\n",
    "            color = ('rgb(205, 12, 24)')\n",
    "        )\n",
    "    )\n",
    "    traces.append(trace)\n",
    "    \n",
    "for probe in good_probes:\n",
    "    this_data = unpro_plate.data_df.ix[probe, :].values.flatten()\n",
    "    trace = go.Scatter(\n",
    "        x = unpro_plate.data_df.columns.values,\n",
    "        y = this_data,\n",
    "        mode = 'lines',\n",
    "        name = probe,\n",
    "        line = dict(\n",
    "            color = ('rgb(22, 96, 167)')\n",
    "        )\n",
    "    )\n",
    "    traces.append(trace)\n",
    "\n",
    "# Plot\n",
    "py.iplot(traces, filename='first_10_probes_unpro')"
   ]
  },
  {
   "cell_type": "markdown",
   "metadata": {},
   "source": [
    "The H07, H08, H09 samples look pretty weird. What are those samples?"
   ]
  },
  {
   "cell_type": "code",
   "execution_count": 119,
   "metadata": {
    "collapsed": false
   },
   "outputs": [
    {
     "data": {
      "text/plain": [
       "cid\n",
       "PA5-11373-091H07    Okadaic Acid\n",
       "PA5-11373-092H08    Okadaic Acid\n",
       "PA5-11373-093H09    Okadaic Acid\n",
       "Name: pert_iname, dtype: object"
      ]
     },
     "execution_count": 119,
     "metadata": {},
     "output_type": "execute_result"
    }
   ],
   "source": [
    "weird_samples = [89, 90, 91]\n",
    "\n",
    "unpro_plate.col_metadata_df.ix[weird_samples, \"pert_iname\"]"
   ]
  },
  {
   "cell_type": "markdown",
   "metadata": {},
   "source": [
    "Turns out it's just okadaic acid. Maybe it's killing the cells. Let's not worry about it.\n",
    "\n",
    "Now, let's look at how the 2 scripts (dry v. R) try to correct this."
   ]
  },
  {
   "cell_type": "code",
   "execution_count": 120,
   "metadata": {
    "collapsed": false
   },
   "outputs": [
    {
     "name": "stdout",
     "output_type": "stream",
     "text": [
      "12_KIAA0701_S935_SMS[+80]VDLSHIPLKDPLLFK not in dry data.\n"
     ]
    }
   ],
   "source": [
    "# Dry\n",
    "bad_dry_traces = []\n",
    "good_dry_traces = []\n",
    "\n",
    "for probe in bad_probes:\n",
    "    try:\n",
    "        this_data = dry_plate.data_df.ix[probe, :].values.flatten()\n",
    "        trace = go.Scatter(\n",
    "            x = dry_plate.data_df.columns.values,\n",
    "            y = this_data,\n",
    "            mode = 'lines',\n",
    "            name = probe,\n",
    "            line = dict(\n",
    "                color = ('rgb(205, 12, 24)')\n",
    "            )\n",
    "        )\n",
    "        bad_dry_traces.append(trace)\n",
    "    except:\n",
    "        print(\"{} not in dry data.\".format(probe))\n",
    "\n",
    "for probe in good_probes:\n",
    "    try:\n",
    "        this_data = dry_plate.data_df.ix[probe, :].values.flatten()\n",
    "        trace = go.Scatter(\n",
    "            x = dry_plate.data_df.columns.values,\n",
    "            y = this_data,\n",
    "            mode = 'lines',\n",
    "            name = probe,\n",
    "            line = dict(\n",
    "                color = ('rgb(22, 96, 167)')\n",
    "            )\n",
    "        )\n",
    "        good_dry_traces.append(trace)\n",
    "    except:\n",
    "        print(\"{} not in dry data.\".format(probe))\n",
    "        \n",
    "dry_traces = bad_dry_traces + good_dry_traces"
   ]
  },
  {
   "cell_type": "code",
   "execution_count": 121,
   "metadata": {
    "collapsed": false
   },
   "outputs": [
    {
     "name": "stdout",
     "output_type": "stream",
     "text": [
      "12_KIAA0701_S935_SMS[+80]VDLSHIPLKDPLLFK not in r data.\n"
     ]
    }
   ],
   "source": [
    "# R\n",
    "bad_r_traces = []\n",
    "good_r_traces = []\n",
    "\n",
    "for probe in bad_probes:\n",
    "    try:\n",
    "        this_data = r_plate.data_df.ix[probe, :].values.flatten()\n",
    "        trace = go.Scatter(\n",
    "            x = r_plate.data_df.columns.values,\n",
    "            y = this_data,\n",
    "            mode = 'lines',\n",
    "            name = probe,\n",
    "            line = dict(\n",
    "                color = ('rgb(205, 12, 24)')\n",
    "            )\n",
    "        )\n",
    "        bad_r_traces.append(trace)\n",
    "    except:\n",
    "        print(\"{} not in r data.\".format(probe))\n",
    "\n",
    "for probe in good_probes:\n",
    "    try:\n",
    "        this_data = r_plate.data_df.ix[probe, :].values.flatten()\n",
    "        trace = go.Scatter(\n",
    "            x = r_plate.data_df.columns.values,\n",
    "            y = this_data,\n",
    "            mode = 'lines',\n",
    "            name = probe,\n",
    "            line = dict(\n",
    "                color = ('rgb(22, 96, 167)')\n",
    "            )\n",
    "        )\n",
    "        good_r_traces.append(trace)\n",
    "    except:\n",
    "        print(\"{} not in r data.\".format(probe))\n",
    "        \n",
    "r_traces = bad_r_traces + good_r_traces"
   ]
  },
  {
   "cell_type": "code",
   "execution_count": 122,
   "metadata": {
    "collapsed": false
   },
   "outputs": [
    {
     "data": {
      "text/html": [
       "<iframe id=\"igraph\" scrolling=\"no\" style=\"border:none;\" seamless=\"seamless\" src=\"https://plot.ly/~levlitichev/40.embed\" height=\"525px\" width=\"100%\"></iframe>"
      ],
      "text/plain": [
       "<plotly.tools.PlotlyDisplay object>"
      ]
     },
     "execution_count": 122,
     "metadata": {},
     "output_type": "execute_result"
    }
   ],
   "source": [
    "# Dry\n",
    "dry_layout = go.Layout(\n",
    "    title='dry')\n",
    "dry_fig = go.Figure(data=dry_traces, layout=dry_layout)\n",
    "py.iplot(dry_fig, filename='first_10_probes_dry')"
   ]
  },
  {
   "cell_type": "code",
   "execution_count": 123,
   "metadata": {
    "collapsed": false
   },
   "outputs": [
    {
     "data": {
      "text/html": [
       "<iframe id=\"igraph\" scrolling=\"no\" style=\"border:none;\" seamless=\"seamless\" src=\"https://plot.ly/~levlitichev/44.embed\" height=\"525px\" width=\"100%\"></iframe>"
      ],
      "text/plain": [
       "<plotly.tools.PlotlyDisplay object>"
      ]
     },
     "execution_count": 123,
     "metadata": {},
     "output_type": "execute_result"
    }
   ],
   "source": [
    "# R\n",
    "r_layout = go.Layout(\n",
    "    title='R')\n",
    "r_fig = go.Figure(data=r_traces, layout=r_layout)\n",
    "py.iplot(r_fig, filename='first_10_probes_r')"
   ]
  },
  {
   "cell_type": "markdown",
   "metadata": {},
   "source": [
    "Not super helpful. Let's compare the data from dry and R for the bad probes directly."
   ]
  },
  {
   "cell_type": "code",
   "execution_count": 124,
   "metadata": {
    "collapsed": false
   },
   "outputs": [
    {
     "data": {
      "text/html": [
       "<iframe id=\"igraph\" scrolling=\"no\" style=\"border:none;\" seamless=\"seamless\" src=\"https://plot.ly/~levlitichev/46.embed\" height=\"525px\" width=\"100%\"></iframe>"
      ],
      "text/plain": [
       "<plotly.tools.PlotlyDisplay object>"
      ]
     },
     "execution_count": 124,
     "metadata": {},
     "output_type": "execute_result"
    }
   ],
   "source": [
    "# Bad probes only\n",
    "bad_probe_traces = []\n",
    "for probe in bad_probes:\n",
    "    this_data = unpro_plate.data_df.ix[probe, :].values.flatten()\n",
    "    trace = go.Scatter(\n",
    "        x = unpro_plate.data_df.columns.values,\n",
    "        y = this_data,\n",
    "        mode = 'lines',\n",
    "        name = probe,\n",
    "        line = dict(\n",
    "            color = ('rgb(205, 12, 24)')\n",
    "        )\n",
    "    )\n",
    "    bad_probe_traces.append(trace)\n",
    "    \n",
    "    try:\n",
    "        this_data = dry_plate.data_df.ix[probe, :].values.flatten()\n",
    "        trace = go.Scatter(\n",
    "            x = dry_plate.data_df.columns.values,\n",
    "            y = this_data,\n",
    "            mode = 'lines',\n",
    "            name = \"DRY_\" + probe,\n",
    "            line = dict(\n",
    "                color = ('rgb(255, 165, 0)')\n",
    "            )\n",
    "        )\n",
    "        bad_probe_traces.append(trace)\n",
    "    except:\n",
    "        print(\"{} not in dry data.\".format(probe))\n",
    "        \n",
    "    try:\n",
    "        this_data = r_plate.data_df.ix[probe, :].values.flatten()\n",
    "        trace = go.Scatter(\n",
    "            x = r_plate.data_df.columns.values,\n",
    "            y = this_data,\n",
    "            mode = 'lines',\n",
    "            name = \"R_\" + probe,\n",
    "            line = dict(\n",
    "                color = ('rgb(0, 100, 0)')\n",
    "            )\n",
    "        )\n",
    "        bad_probe_traces.append(trace)\n",
    "    except:\n",
    "        print(\"{} not in r data.\".format(probe))\n",
    "        \n",
    "bad_only_layout = go.Layout(\n",
    "    title='Bad probes only')\n",
    "bad_probe_fig = go.Figure(data=bad_probe_traces, layout=bad_only_layout)\n",
    "py.iplot(bad_probe_fig, filename='bad_probes_only_probes')\n"
   ]
  },
  {
   "cell_type": "markdown",
   "metadata": {},
   "source": [
    "Okay, so we can see the error for the probes is not caused by MOST of the values being off, but just for a subset. The next step might be to look into those samples for which the difference is big, cause it's really just those that are the problem."
   ]
  },
  {
   "cell_type": "code",
   "execution_count": 125,
   "metadata": {
    "collapsed": false
   },
   "outputs": [
    {
     "data": {
      "text/html": [
       "<iframe id=\"igraph\" scrolling=\"no\" style=\"border:none;\" seamless=\"seamless\" src=\"https://plot.ly/~levlitichev/48.embed\" height=\"525px\" width=\"100%\"></iframe>"
      ],
      "text/plain": [
       "<plotly.tools.PlotlyDisplay object>"
      ]
     },
     "execution_count": 125,
     "metadata": {},
     "output_type": "execute_result"
    }
   ],
   "source": [
    "bad_samples = [\"PA5-11373-091H07\", \"PA5-11373-092H08\", \"PA5-11373-093H09\"]\n",
    "\n",
    "unpro_trace = go.Scatter(\n",
    "        x = unpro_plate.data_df.index.values,\n",
    "        y = unpro_plate.data_df.loc[:, bad_samples[0]],\n",
    "        mode = 'lines',\n",
    "        name = \"unpro\",\n",
    ")\n",
    "dry_trace = go.Scatter(\n",
    "        x = dry_plate.data_df.index.values,\n",
    "        y = dry_plate.data_df.loc[:, bad_samples[0]],\n",
    "        mode = 'lines',\n",
    "        name = \"dry\",\n",
    ")\n",
    "r_trace = go.Scatter(\n",
    "        x = r_plate.data_df.index.values,\n",
    "        y = r_plate.data_df.loc[:, bad_samples[0]],\n",
    "        mode = 'lines',\n",
    "        name = \"R\",\n",
    ")\n",
    "\n",
    "bad_sample_layout = go.Layout(\n",
    "    title='Sample {}'.format(bad_samples[0]))\n",
    "bad_sample_fig = go.Figure(data=[unpro_trace, dry_trace, r_trace], layout=bad_sample_layout)\n",
    "py.iplot(bad_sample_fig, filename='bad_sample')"
   ]
  },
  {
   "cell_type": "markdown",
   "metadata": {},
   "source": [
    "Green (R) is almost always higher. Well, is it \"correct\"? We can evaluate this by looking at the residuals, or the distance from each value to its probe median."
   ]
  },
  {
   "cell_type": "code",
   "execution_count": 126,
   "metadata": {
    "collapsed": false
   },
   "outputs": [
    {
     "name": "stdout",
     "output_type": "stream",
     "text": [
      "bad_sample1_dry_resids: -1.04800541251\n",
      "bad_sample1_r_resids: -0.0209733431959\n"
     ]
    }
   ],
   "source": [
    "dry_probe_medians = np.nanmedian(dry_plate.data_df, axis=1)\n",
    "r_probe_medians = np.nanmedian(r_plate.data_df, axis=1)\n",
    "\n",
    "bad_sample1_dry_resids = dry_plate.data_df.loc[:, bad_samples[0]] - dry_probe_medians\n",
    "bad_sample1_r_resids = r_plate.data_df.loc[:, bad_samples[0]] - r_probe_medians\n",
    "\n",
    "print(\"bad_sample1_dry_resids: {}\".format(np.mean(bad_sample1_dry_resids)))\n",
    "print(\"bad_sample1_r_resids: {}\".format(np.mean(bad_sample1_r_resids)))\n"
   ]
  },
  {
   "cell_type": "markdown",
   "metadata": {},
   "source": [
    "** Need to look at the medians BEFORE row median normalization. Looking at it now isn't too informative (all of them are right around 0, for both dry and R).\n",
    "\n",
    "The goal of applying offsets is to get each value as close as possible to the probe median. Let's see which method does this better!"
   ]
  },
  {
   "cell_type": "code",
   "execution_count": null,
   "metadata": {
    "collapsed": true
   },
   "outputs": [],
   "source": []
  }
 ],
 "metadata": {
  "kernelspec": {
   "display_name": "Python 2",
   "language": "python",
   "name": "python2"
  },
  "language_info": {
   "codemirror_mode": {
    "name": "ipython",
    "version": 2
   },
   "file_extension": ".py",
   "mimetype": "text/x-python",
   "name": "python",
   "nbconvert_exporter": "python",
   "pygments_lexer": "ipython2",
   "version": "2.7.12"
  }
 },
 "nbformat": 4,
 "nbformat_minor": 0
}
